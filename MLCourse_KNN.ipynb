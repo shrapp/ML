{
  "metadata": {
    "kernelspec": {
      "display_name": "Python 3",
      "language": "python",
      "name": "python3"
    },
    "language_info": {
      "name": "python",
      "version": "3.6.5",
      "mimetype": "text/x-python",
      "codemirror_mode": {
        "name": "ipython",
        "version": 3
      },
      "pygments_lexer": "ipython3",
      "nbconvert_exporter": "python",
      "file_extension": ".py"
    },
    "colab": {
      "provenance": [],
      "collapsed_sections": [],
      "include_colab_link": true
    }
  },
  "nbformat_minor": 0,
  "nbformat": 4,
  "cells": [
    {
      "cell_type": "markdown",
      "metadata": {
        "id": "view-in-github",
        "colab_type": "text"
      },
      "source": [
        "<a href=\"https://colab.research.google.com/github/shrapp/ML/blob/main/MLCourse_KNN.ipynb\" target=\"_parent\"><img src=\"https://colab.research.google.com/assets/colab-badge.svg\" alt=\"Open In Colab\"/></a>"
      ]
    },
    {
      "cell_type": "markdown",
      "source": [
        "<h1><center><b>Machine Learning</></center></h1>\n",
        "<h4><center>89-511</center></h4>\n",
        "<h3><center>Exercise 1 - Practical Part</center></h3>"
      ],
      "metadata": {
        "id": "FnIE9WTOfS1l"
      }
    },
    {
      "cell_type": "markdown",
      "source": [
        "Your Name:  \n",
        "<font color='red'>\n",
        "FirstName1 LastName1, 123456789   \n",
        "</font>\n"
      ],
      "metadata": {
        "id": "E89lXXfbfXHm"
      }
    },
    {
      "cell_type": "markdown",
      "source": [
        "____________"
      ],
      "metadata": {
        "id": "3lYBy6xqfjeZ"
      }
    },
    {
      "cell_type": "markdown",
      "source": [
        "In this exercise we will learn to:\n",
        "1. Load and prepare datasets.\n",
        "2. Implement KNN algorithm."
      ],
      "metadata": {
        "id": "MQHH33U_fcfO"
      }
    },
    {
      "cell_type": "markdown",
      "source": [
        "**Instructions:**\n",
        "- Create a copy of this notebook and implement your code in it.\n",
        "- Make sure all the cells run without errors.\n",
        "- When you finish the assignment, download the notebook and submit it and your pdf file to the **\"submit\"** system. \n",
        "To Download the notebook go to **\"File\"** -> **\"Download .ipynb\"**.  \n",
        "\n",
        "\n",
        "\n",
        "If you have questions, please ask at the forum on moodle.\n",
        "\n",
        "Personal requests please send to TA emails."
      ],
      "metadata": {
        "id": "NJMv-ROefl8X"
      }
    },
    {
      "cell_type": "markdown",
      "source": [
        "### **1. Introduction to Colab and Numpy**"
      ],
      "metadata": {
        "id": "4GQhuPnKGMDv"
      }
    },
    {
      "cell_type": "markdown",
      "source": [
        "We use the Python programming language for all assignments in this course with the help of popular packages (like numpy, matplotlib, sklearn, scipy and pytorch)."
      ],
      "metadata": {
        "id": "aEUfaBxEGPYv"
      }
    },
    {
      "cell_type": "markdown",
      "source": [
        "Go over this **[numpy tutorial](https://numpy.org/doc/stable/user/quickstart.html)** or this **[tutorial](https://cs231n.github.io/python-numpy-tutorial/)** before starting this assignment and **[this notebook](https://colab.research.google.com/github/cs231n/cs231n.github.io/blob/master/python-colab.ipynb)** to understand how to work with basic packages and with Google Colab. It is important to go over them before starting this assignment."
      ],
      "metadata": {
        "id": "w3J-LD1JGRnz"
      }
    },
    {
      "cell_type": "code",
      "source": [
        "import numpy as np # linear algebra\n",
        "import matplotlib.pyplot as plt\n",
        "%matplotlib inline"
      ],
      "metadata": {
        "_uuid": "8f2839f25d086af736a60e9eeb907d3b93b6e0e5",
        "_cell_guid": "b1076dfc-b9ad-4769-8c92-a6c4dae69d19",
        "collapsed": true,
        "jupyter": {
          "outputs_hidden": true
        },
        "trusted": true,
        "id": "UrvjGAig6ZVz"
      },
      "execution_count": null,
      "outputs": []
    },
    {
      "cell_type": "markdown",
      "source": [
        "Play with NumPy here:"
      ],
      "metadata": {
        "id": "txhZN0oi_sN7"
      }
    },
    {
      "cell_type": "code",
      "source": [
        "x = np.array([1,2,3])\n",
        "y = np.array([4,5,6])\n",
        "x, y"
      ],
      "metadata": {
        "colab": {
          "base_uri": "https://localhost:8080/"
        },
        "id": "PX_F6QmR_w6k",
        "outputId": "4a2e99cd-6319-4660-e07e-82b2a007cff8"
      },
      "execution_count": null,
      "outputs": [
        {
          "output_type": "execute_result",
          "data": {
            "text/plain": [
              "(array([1, 2, 3]), array([4, 5, 6]))"
            ]
          },
          "metadata": {},
          "execution_count": 3
        }
      ]
    },
    {
      "cell_type": "markdown",
      "source": [
        "Pay attention: with NumPy, you can sum vectors in one line, you don't have to iterate over the elements."
      ],
      "metadata": {
        "id": "Bb9L0pZOAniX"
      }
    },
    {
      "cell_type": "code",
      "source": [
        "x + y\n",
        "# x - y\n",
        "# x * y\n",
        "# x**2\n",
        "# (x - y)**2"
      ],
      "metadata": {
        "colab": {
          "base_uri": "https://localhost:8080/"
        },
        "id": "kNef8D0O_3Yp",
        "outputId": "20412c60-5d72-4099-df11-3e58a5a4ee79"
      },
      "execution_count": null,
      "outputs": [
        {
          "output_type": "execute_result",
          "data": {
            "text/plain": [
              "array([9, 9, 9])"
            ]
          },
          "metadata": {},
          "execution_count": 11
        }
      ]
    },
    {
      "cell_type": "code",
      "source": [
        "np.sum(x)\n",
        "# np.mean(x)\n",
        "np.sqrt(x)"
      ],
      "metadata": {
        "colab": {
          "base_uri": "https://localhost:8080/"
        },
        "id": "HDHXT8erBjrB",
        "outputId": "ff881941-3da5-40a4-c766-d96c3818b97f"
      },
      "execution_count": null,
      "outputs": [
        {
          "output_type": "execute_result",
          "data": {
            "text/plain": [
              "array([1.        , 1.41421356, 1.73205081])"
            ]
          },
          "metadata": {},
          "execution_count": 14
        }
      ]
    },
    {
      "cell_type": "markdown",
      "source": [
        "### **2. Data**"
      ],
      "metadata": {
        "id": "RFeWSRKXGYwt"
      }
    },
    {
      "cell_type": "markdown",
      "source": [
        "##Data\n",
        "We'll use CIFAR10 dataset.\n",
        "It is a very familiar dataset. Please read a little bit [here](https://www.cs.toronto.edu/~kriz/cifar.html).\n",
        "\n",
        "To import the dataset, we'll use the torch library. Don't dig about this library now, we will learn about it better in the next weeks."
      ],
      "metadata": {
        "id": "OxJ5oDEYBfzx"
      }
    },
    {
      "cell_type": "code",
      "source": [
        "import torch\n",
        "from torchvision import datasets,transforms\n",
        "import torchvision"
      ],
      "metadata": {
        "id": "duNdiOxThkGX"
      },
      "execution_count": null,
      "outputs": []
    },
    {
      "cell_type": "code",
      "source": [
        "######################################################\n",
        "##   Don't change this cell. Use it as a black box  ##\n",
        "######################################################\n",
        "\n",
        "transform = transforms.Compose(\n",
        "    [transforms.ToTensor(),\n",
        "     ])\n",
        "\n",
        "trainset = torchvision.datasets.CIFAR10(root='./data', train=True,\n",
        "                                        download=True, transform=transform)\n",
        "trainloader = torch.utils.data.DataLoader(trainset, batch_size=100,\n",
        "                                          shuffle=True, num_workers=1)\n",
        "\n",
        "testset = torchvision.datasets.CIFAR10(root='./data', train=False,\n",
        "                                       download=True, transform=transform)\n",
        "testloader = torch.utils.data.DataLoader(testset, batch_size=10,\n",
        "                                         shuffle=False, num_workers=1)\n",
        "\n",
        "# CIFAR10 labels:\n",
        "classes = ('plane', 'car', 'bird', 'cat',\n",
        "           'deer', 'dog', 'frog', 'horse', 'ship', 'truck')"
      ],
      "metadata": {
        "id": "l3oDm59FhrLf"
      },
      "execution_count": null,
      "outputs": []
    },
    {
      "cell_type": "markdown",
      "source": [
        "Let's see a few images with their labels"
      ],
      "metadata": {
        "id": "mmmmXVkzCT_e"
      }
    },
    {
      "cell_type": "code",
      "source": [
        "# functions to show an image\n",
        "def imshow(img):\n",
        "    img = img / 2 + 0.5     # unnormalize\n",
        "    npimg = img.numpy()\n",
        "    plt.imshow(np.transpose(npimg, (1, 2, 0)))\n",
        "    plt.show()\n",
        "\n",
        "\n",
        "# get some random training images\n",
        "dataiter = iter(trainloader)\n",
        "images, labels = dataiter.next()\n",
        "\n",
        "testiter = iter(testloader)\n",
        "test_images, test_labels = testiter.next()\n",
        "\n",
        "# show images\n",
        "imshow(torchvision.utils.make_grid(images[:6]))\n",
        "# print labels\n",
        "print(' '.join('%5s' % classes[labels[j]] for j in range(6)))"
      ],
      "metadata": {
        "id": "pe-chMNui1-G"
      },
      "execution_count": null,
      "outputs": []
    },
    {
      "cell_type": "markdown",
      "source": [
        "Each image is represented as a RGB image.\n",
        "each pixel has a number between 0 and 1 on each dimension."
      ],
      "metadata": {
        "id": "E7WnAEEPjshc"
      }
    },
    {
      "cell_type": "code",
      "source": [
        "images[0], images[0].size()"
      ],
      "metadata": {
        "id": "FM1kkK1jjo7q"
      },
      "execution_count": null,
      "outputs": []
    },
    {
      "cell_type": "markdown",
      "source": [
        "CIFAR is a big datadset, let's use only 100 images and convert them to numpy arrays"
      ],
      "metadata": {
        "_uuid": "29047fa0bda44ed0a1585111f3d6f8ff59d4874a",
        "id": "qDAXwa4F6ZWT"
      }
    },
    {
      "cell_type": "markdown",
      "source": [
        "#### Train Set"
      ],
      "metadata": {
        "id": "ET8mhNueCeFj"
      }
    },
    {
      "cell_type": "code",
      "source": [
        "x_train = np.array(images)\n",
        "y_train = np.array(labels)"
      ],
      "metadata": {
        "id": "tgnGJ0D2k0To"
      },
      "execution_count": null,
      "outputs": []
    },
    {
      "cell_type": "code",
      "source": [
        "x_train.shape, y_train.shape"
      ],
      "metadata": {
        "_uuid": "6afd808eb483954449df900735458dc3fac2c872",
        "trusted": true,
        "id": "4XE9nvkA6ZWU"
      },
      "execution_count": null,
      "outputs": []
    },
    {
      "cell_type": "markdown",
      "source": [
        "#### Test Set"
      ],
      "metadata": {
        "_uuid": "a3481050ff75eb36c89117cf7fd57479c047649d",
        "id": "ju_se3Sk6ZWV"
      }
    },
    {
      "cell_type": "code",
      "source": [
        "x_test = np.array(test_images)\n",
        "y_test = np.array(test_labels)\n",
        "x_test.shape, y_test.shape"
      ],
      "metadata": {
        "_uuid": "ebbf24c127217ef8799a02a146eb97de17f0e064",
        "collapsed": true,
        "jupyter": {
          "outputs_hidden": true
        },
        "trusted": true,
        "id": "StHT3jMF6ZWX"
      },
      "execution_count": null,
      "outputs": []
    },
    {
      "cell_type": "markdown",
      "source": [
        "### **3. KNN**"
      ],
      "metadata": {
        "id": "dn6LYfAS710-"
      }
    },
    {
      "cell_type": "markdown",
      "source": [
        "First of all, let's implement euclidean distance function, so we will be able to calculate closeness between images.\n",
        "\n",
        "**A reminder**: the euclidean distance formula is:\n",
        "\n",
        "![image.png](data:image/png;base64,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)\n",
        "\n",
        "**Pay attention**: point representation might contains more than two numbers (means m>2)."
      ],
      "metadata": {
        "id": "QGgbwQg5BBk8"
      }
    },
    {
      "cell_type": "code",
      "source": [
        "def euclidean_distance(p1, p2):\n",
        "  #### IMPLEMENT YOUR CODE HERE ####\n",
        "  pass"
      ],
      "metadata": {
        "id": "6JEOP8Iy9Oed"
      },
      "execution_count": null,
      "outputs": []
    },
    {
      "cell_type": "markdown",
      "source": [
        "Now, let's implement KNeighborsClassifier class.\n",
        "\n",
        "In 'fit' function you have to get the inputs, and prepare the classifier for prediction (think what exactly you have to prepare)\n",
        "\n",
        "In 'predict' fucntion you have to get a test set and return a numpy array contains the classes (that the model predicted) of each element from the test set.\n",
        "\n",
        "We added a few more function declarations that might help you. Fill free to implement them (or not) and to add some more functions.\n",
        "\n",
        "In adition, we've presented a few KNN implementations in class. You are allowed to implement your own algorithm.\n"
      ],
      "metadata": {
        "id": "p0nmKRhmCiZO"
      }
    },
    {
      "cell_type": "code",
      "source": [
        "class KNeighborsClassifier:\n",
        "  def __init__(self, distance_metric, n_neighbors=None):\n",
        "    self.k = n_neighbors\n",
        "    #### IMPLEMENT YOUR CODE HERE ####\n",
        "\n",
        "\n",
        "  def fit(self, x, y):\n",
        "    #### IMPLEMENT YOUR CODE HERE ####\n",
        "    pass\n",
        "\n",
        "  def predict(self, x_test):\n",
        "    #### IMPLEMENT YOUR CODE HERE ####\n",
        "    pass\n",
        "  \n",
        "  # def distance(self, ...):\n",
        "  #   pass\n",
        "\n",
        "  # def nearest_neighbor(self, ...):\n",
        "  #   pass\n",
        "\n"
      ],
      "metadata": {
        "id": "KboWqZLE7zuE"
      },
      "execution_count": null,
      "outputs": []
    },
    {
      "cell_type": "code",
      "source": [
        "def error_rate(y_predict, y_true):\n",
        "  \"\"\"\n",
        "  y_predict: the model's output\n",
        "  y_true: the expected output\n",
        "  \"\"\"\n",
        "  #### IMPLEMENT YOUR CODE HERE ####\n",
        "  # you can use: np.mean(y_predict != y_true)\n",
        "  pass\n",
        "  "
      ],
      "metadata": {
        "id": "Y1XqlDE7BaS-"
      },
      "execution_count": null,
      "outputs": []
    },
    {
      "cell_type": "markdown",
      "source": [
        "**Using KNN**"
      ],
      "metadata": {
        "_uuid": "ae2b399f1a07facca0efbe6932d07ce364503b19",
        "id": "70eV3Bbk6ZWY"
      }
    },
    {
      "cell_type": "markdown",
      "source": [
        "Use the KNeighborsClassifier class you've implemented with n_neighbors=1. Fit this KNN model to the training data."
      ],
      "metadata": {
        "_uuid": "f74b766c7b4c1c903d28801f0d289c3c656e9f40",
        "id": "bucbcM056ZWZ"
      }
    },
    {
      "cell_type": "code",
      "source": [
        "knn = KNeighborsClassifier(n_neighbors=1)\n",
        "knn.fit(x_train,y_train)"
      ],
      "metadata": {
        "_uuid": "172f52bf6eb063dc1036e9c9f53cf8b32be30264",
        "trusted": true,
        "id": "HlCwTN6f6ZWa"
      },
      "execution_count": null,
      "outputs": []
    },
    {
      "cell_type": "markdown",
      "source": [
        "**Predictions and Evaluations**"
      ],
      "metadata": {
        "_uuid": "616bada005962d9b485fb28cff6ee51772ae623e",
        "id": "WAfvzL676ZWb"
      }
    },
    {
      "cell_type": "markdown",
      "source": [
        "Use the predict method to predict values using your KNN model and x_test. In addition, create a [confusion matrix](https://www.sciencedirect.com/topics/engineering/confusion-matrix) and a [classification report](https://scikit-learn.org/stable/modules/generated/sklearn.metrics.classification_report.html).\n",
        "\n",
        "Make sure you don't get any errors in this cell."
      ],
      "metadata": {
        "_uuid": "7b2ce93dc57775f9d4648d93b89ca601fd87b14b",
        "id": "uRAZcinr6ZWc"
      }
    },
    {
      "cell_type": "code",
      "source": [
        "pred = knn.predict(x_test)\n",
        "from sklearn.metrics import classification_report,confusion_matrix\n",
        "print(confusion_matrix(y_test,pred))\n",
        "print(classification_report(y_test,pred))"
      ],
      "metadata": {
        "_uuid": "f31fd79b413c45cab4629c9ee9feecd515a05974",
        "trusted": true,
        "id": "Nljusqxg6ZWd"
      },
      "execution_count": null,
      "outputs": []
    },
    {
      "cell_type": "markdown",
      "source": [
        "**Choosing a K Value**"
      ],
      "metadata": {
        "_uuid": "2bb7d870a8beaead732e933b26ca2560a635b9c3",
        "id": "R0UxmSd26ZWe"
      }
    },
    {
      "cell_type": "markdown",
      "source": [
        "Implement a for loop in 'find_best_k' function (hint: use KNeighborsClassifier object) that trains various KNN models with different k values, then keep track of the error_rate for each of these models with a list.\n",
        "The function will return the best k, and the error rate of each k as a numpy array."
      ],
      "metadata": {
        "_uuid": "249e09040d35835d5573c8040bf0a6f058243bdd",
        "id": "ZxskqOWf6ZWe"
      }
    },
    {
      "cell_type": "code",
      "source": [
        "MIN_K = 1\n",
        "MAX_K = 15\n",
        "\n",
        "def find_best_k(min_k=1, max_k=15):\n",
        "  #### IMPLEMENT YOUR CODE HERE ####\n",
        "  pass\n",
        "\n",
        "  "
      ],
      "metadata": {
        "_uuid": "1888168e0d4e1b67c8453578c10608b4f4d1064a",
        "collapsed": true,
        "jupyter": {
          "outputs_hidden": true
        },
        "trusted": true,
        "id": "s1Zwd1PB6ZWf"
      },
      "execution_count": null,
      "outputs": []
    },
    {
      "cell_type": "code",
      "source": [
        "best_k, error_rate = find_best_k(min_k=MIN_K, max_k=MAX_K)"
      ],
      "metadata": {
        "id": "hgiv4I1xEof5"
      },
      "execution_count": null,
      "outputs": []
    },
    {
      "cell_type": "markdown",
      "source": [
        "Now create the following plot using the information from your for loop."
      ],
      "metadata": {
        "_uuid": "e0885f54bb197123a46822f9aad5bb5bc2b8e29d",
        "id": "XRnwmDcD6ZWg"
      }
    },
    {
      "cell_type": "code",
      "source": [
        "plt.figure(figsize=(10,6))\n",
        "plt.plot(range(MIN_K,MAX_K),error_rate,color='blue',linestyle='dashed', marker='o',\n",
        "         markerfacecolor='red', markersize=10)\n",
        "plt.title('Error rate vs K')\n",
        "plt.xlabel('K')\n",
        "plt.ylabel('Error rate')"
      ],
      "metadata": {
        "_uuid": "d4367d0cceb7e8e925d03bddcf7d8a0c744e24eb",
        "trusted": true,
        "id": "e3aBqCrz6ZWg"
      },
      "execution_count": null,
      "outputs": []
    },
    {
      "cell_type": "markdown",
      "source": [
        "**Retrain with new K Value**"
      ],
      "metadata": {
        "_uuid": "b8f0fab026198a3713fd349f90f822bbec54bc46",
        "id": "32CvrMLV6ZWh"
      }
    },
    {
      "cell_type": "markdown",
      "source": [
        "Retrain your model with the best K value (up to you to decide what you want) and re-do the classification report and the confusion matrix."
      ],
      "metadata": {
        "_uuid": "71595920cbc4e2b99c48e45685a2c9b7d2bd6eaf",
        "id": "rXPiIZcB6ZWi"
      }
    },
    {
      "cell_type": "code",
      "source": [
        "knn = KNeighborsClassifier(#### INSERT ARGUMENTS HERE ####)\n",
        "knn.fit(#### INSERT ARGUMENTS HERE ####)\n",
        "pred = knn.predict(#### INSERT ARGUMENTS HERE ####)"
      ],
      "metadata": {
        "_uuid": "ef73509be8d89ad176edb3c58e213d2f90ded61e",
        "collapsed": true,
        "jupyter": {
          "outputs_hidden": true
        },
        "trusted": true,
        "id": "D22b6tx36ZWi"
      },
      "execution_count": null,
      "outputs": []
    },
    {
      "cell_type": "code",
      "source": [
        "print(confusion_matrix(y_test,pred))\n",
        "print(classification_report(y_test,pred))"
      ],
      "metadata": {
        "_uuid": "15aa54fc0ea59691e5ec1d5f00c47f6f366f1e15",
        "trusted": true,
        "id": "ltUP04u96ZWj"
      },
      "execution_count": null,
      "outputs": []
    },
    {
      "cell_type": "markdown",
      "source": [
        "**:)**"
      ],
      "metadata": {
        "_uuid": "f55ee56ba4ff8850ca413226af4fb78b712ed0ab",
        "id": "XXzD3V_T6ZWj"
      }
    }
  ]
}